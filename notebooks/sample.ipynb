{
 "cells": [
  {
   "cell_type": "code",
   "execution_count": 1,
   "id": "cfe68265-2187-4c97-92b2-b3cda6a10cab",
   "metadata": {},
   "outputs": [],
   "source": [
    "import os\n",
    "import sys\n",
    "from pathlib import Path"
   ]
  },
  {
   "cell_type": "code",
   "execution_count": 2,
   "id": "0abae864-95b1-4e9d-a88d-1ec728f00403",
   "metadata": {},
   "outputs": [],
   "source": [
    "sys.path.append(os.path.join(Path().resolve(), '../src'))"
   ]
  },
  {
   "cell_type": "code",
   "execution_count": 3,
   "id": "b017a203-0fdc-4df6-9d9c-5f2363d69e04",
   "metadata": {},
   "outputs": [],
   "source": [
    "import pandas as pd\n",
    "from pandas_profiling import ProfileReport\n",
    "from utils import inverse_cor, estimate, deviance_and_p"
   ]
  },
  {
   "cell_type": "code",
   "execution_count": null,
   "id": "fff79a8f-3ab0-47e3-902d-ab30dc9a6c3d",
   "metadata": {},
   "outputs": [],
   "source": [
    "path = '../data/hoge.csv'"
   ]
  },
  {
   "cell_type": "code",
   "execution_count": null,
   "id": "4df15114-529b-41d8-a335-83778fdda45e",
   "metadata": {},
   "outputs": [],
   "source": [
    "df = pd.read_csv(path)\n",
    "print(df.shape)\n",
    "display(df.head())"
   ]
  },
  {
   "cell_type": "code",
   "execution_count": null,
   "id": "5b92b75d-3035-4bfb-b8ba-95b4e72c195f",
   "metadata": {},
   "outputs": [],
   "source": [
    "profiling = ProfileReport(df)\n",
    "profiling"
   ]
  },
  {
   "cell_type": "code",
   "execution_count": null,
   "id": "4ecad5c6-73a3-4aac-9dd7-834260915271",
   "metadata": {},
   "outputs": [],
   "source": []
  }
 ],
 "metadata": {
  "kernelspec": {
   "display_name": "Python 3",
   "language": "python",
   "name": "python3"
  },
  "language_info": {
   "codemirror_mode": {
    "name": "ipython",
    "version": 3
   },
   "file_extension": ".py",
   "mimetype": "text/x-python",
   "name": "python",
   "nbconvert_exporter": "python",
   "pygments_lexer": "ipython3",
   "version": "3.8.2"
  }
 },
 "nbformat": 4,
 "nbformat_minor": 5
}
